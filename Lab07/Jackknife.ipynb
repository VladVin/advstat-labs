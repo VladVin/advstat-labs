{
 "cells": [
  {
   "cell_type": "markdown",
   "metadata": {},
   "source": [
    "## Jackknife"
   ]
  },
  {
   "cell_type": "code",
   "execution_count": 180,
   "metadata": {
    "collapsed": true
   },
   "outputs": [],
   "source": [
    "import numpy as np\n",
    "import matplotlib.pyplot as plt\n",
    "\n",
    "import scipy.stats as st\n",
    "\n",
    "%matplotlib inline"
   ]
  },
  {
   "cell_type": "code",
   "execution_count": 181,
   "metadata": {
    "collapsed": true
   },
   "outputs": [],
   "source": [
    "N = 100"
   ]
  },
  {
   "cell_type": "code",
   "execution_count": 182,
   "metadata": {
    "collapsed": true
   },
   "outputs": [],
   "source": [
    "def calc_avg_leave_one_out_func(func, sample):\n",
    "    means = []\n",
    "    for i in range(len(sample)):\n",
    "        loo_sample = np.hstack([sample[:i], sample[i + 1:]])\n",
    "        res = func(loo_sample)\n",
    "        means.append(res)\n",
    "    \n",
    "    means = np.array(means)\n",
    "    return means.mean(), means.var()"
   ]
  },
  {
   "cell_type": "code",
   "execution_count": 197,
   "metadata": {
    "collapsed": true
   },
   "outputs": [],
   "source": [
    "def calculate_biases(sample, mean, skew, median):\n",
    "    jackknife_mean, mean_var = calc_avg_leave_one_out_func(np.mean, sample)\n",
    "    just_mean = np.mean(sample)\n",
    "    \n",
    "    jackknife_skew, skew_var = calc_avg_leave_one_out_func(st.skew, sample)\n",
    "    just_skew = st.skew(sample)\n",
    "    \n",
    "    jackknife_median, median_var = calc_avg_leave_one_out_func(np.median, norm_sample)\n",
    "    just_median = np.median(norm_sample)\n",
    "\n",
    "    print('Just mean error = {}'.format(abs(just_mean - mean)))\n",
    "    print('Jackknife mean error = {}'.format(abs(jackknife_mean - mean)))\n",
    "    print('Jackknife mean variance = {}'.format(mean_var))\n",
    "    print('Mean percents = {}'.format(abs(jackknife_mean - mean) / mean))\n",
    "    bias = (N - 1) * (jackknife_mean - just_mean)\n",
    "    print('Bias = {}\\n'.format(bias))\n",
    "    \n",
    "    print('Just skew error = {}'.format(abs(just_skew - skew)))\n",
    "    print('Jackknife skew error = {}'.format(abs(jackknife_skew - skew)))\n",
    "    print('Jackknife skew variance = {}'.format(skew_var))\n",
    "    print('Skew percents = {}'.format(abs(jackknife_skew - skew) / skew))\n",
    "    bias = (N - 1) * (jackknife_skew - just_skew)\n",
    "    print('Bias = {}\\n'.format(bias))\n",
    "    \n",
    "    print('Just median error = {}'.format(abs(just_median - median)))\n",
    "    print('Jackknife median error = {}'.format(abs(jackknife_median - median)))\n",
    "    print('Jackknife median variance = {}'.format(median_var))\n",
    "    print('Median percents = {}'.format(abs(jackknife_median - median) / median))\n",
    "    bias = (N - 1) * (jackknife_median - just_median)\n",
    "    print('Bias = {}'.format(bias))"
   ]
  },
  {
   "cell_type": "markdown",
   "metadata": {},
   "source": [
    "### Log-normal distribution"
   ]
  },
  {
   "cell_type": "code",
   "execution_count": 198,
   "metadata": {},
   "outputs": [
    {
     "data": {
      "image/png": "[encoded data removed]",
      "text/plain": [
       "<matplotlib.figure.Figure at 0x7f473eb17e48>"
      ]
     },
     "metadata": {},
     "output_type": "display_data"
    }
   ],
   "source": [
    "log_norm = st.lognorm(1.0)\n",
    "mean, var, skew, kurt = log_norm.stats(moments='mvsk')\n",
    "median = log_norm.ppf(0.5)\n",
    "\n",
    "lognorm_sample = log_norm.rvs(N)\n",
    "\n",
    "plt.hist(lognorm_sample, bins=20);"
   ]
  },
  {
   "cell_type": "code",
   "execution_count": 199,
   "metadata": {},
   "outputs": [
    {
     "name": "stdout",
     "output_type": "stream",
     "text": [
      "Just mean error = 0.18259331658048406\n",
      "Jackknife mean error = 0.18259331658048428\n",
      "Jackknife mean variance = 0.00035384689867292395\n",
      "Mean percents = 0.11074844476467885\n",
      "Bias = -2.19824158875781e-14\n",
      "\n",
      "Just skew error = 2.5322971792997118\n",
      "Jackknife skew error = 2.535357303837006\n",
      "Jackknife skew variance = 0.0038379390851279844\n",
      "Skew percents = 0.4099284831383993\n",
      "Bias = -0.30295232919213744\n",
      "\n",
      "Just median error = 1.2362602158394087\n",
      "Jackknife median error = 1.2362602158394087\n",
      "Jackknife median variance = 0.00023303589644297845\n",
      "Median percents = 1.2362602158394087\n",
      "Bias = -2.7478019859472624e-15\n"
     ]
    }
   ],
   "source": [
    "calculate_biases(lognorm_sample, mean, skew, median)"
   ]
  },
  {
   "cell_type": "markdown",
   "metadata": {},
   "source": [
    "### Normal distribution"
   ]
  },
  {
   "cell_type": "code",
   "execution_count": 200,
   "metadata": {},
   "outputs": [
    {
     "data": {
      "image/png": "[encoded data removed]",
      "text/plain": [
       "<matplotlib.figure.Figure at 0x7f473e979080>"
      ]
     },
     "metadata": {},
     "output_type": "display_data"
    }
   ],
   "source": [
    "norm = st.norm()\n",
    "mean, var, skew, kurt = norm.stats(moments='mvsk')\n",
    "median = norm.ppf(0.5)\n",
    "\n",
    "norm_sample = norm.rvs(N)\n",
    "\n",
    "plt.hist(norm_sample, bins=20);"
   ]
  },
  {
   "cell_type": "code",
   "execution_count": 201,
   "metadata": {},
   "outputs": [
    {
     "name": "stdout",
     "output_type": "stream",
     "text": [
      "Just mean error = 0.02491036088292639\n",
      "Jackknife mean error = 0.02491036088292639\n",
      "Jackknife mean variance = 9.635350337887042e-05\n",
      "Mean percents = inf\n",
      "Bias = 0.0\n",
      "\n",
      "Just skew error = 0.2603015615242515\n",
      "Jackknife skew error = 0.2600484312772865\n",
      "Jackknife skew variance = 0.0009098808738795659\n",
      "Skew percents = inf\n",
      "Bias = 0.025059894449534437\n",
      "\n",
      "Just median error = 0.07570219322082397\n",
      "Jackknife median error = 0.07570219322082399\n",
      "Jackknife median variance = 4.910818919346005e-07\n",
      "Median percents = inf\n",
      "Bias = 1.3739009929736312e-15\n"
     ]
    },
    {
     "name": "stderr",
     "output_type": "stream",
     "text": [
      "/home/vladvin/anaconda3/lib/python3.6/site-packages/ipykernel_launcher.py:14: RuntimeWarning: divide by zero encountered in double_scalars\n",
      "  \n",
      "/home/vladvin/anaconda3/lib/python3.6/site-packages/ipykernel_launcher.py:21: RuntimeWarning: divide by zero encountered in double_scalars\n",
      "/home/vladvin/anaconda3/lib/python3.6/site-packages/ipykernel_launcher.py:28: RuntimeWarning: divide by zero encountered in double_scalars\n"
     ]
    }
   ],
   "source": [
    "calculate_biases(norm_sample, mean, skew, median)"
   ]
  },
  {
   "cell_type": "code",
   "execution_count": null,
   "metadata": {
    "collapsed": true
   },
   "outputs": [],
   "source": []
  },
  {
   "cell_type": "code",
   "execution_count": null,
   "metadata": {
    "collapsed": true
   },
   "outputs": [],
   "source": [
    "f"
   ]
  }
 ],
 "metadata": {
  "kernelspec": {
   "display_name": "Python 3",
   "language": "python",
   "name": "python3"
  },
  "language_info": {
   "codemirror_mode": {
    "name": "ipython",
    "version": 3
   },
   "file_extension": ".py",
   "mimetype": "text/x-python",
   "name": "python",
   "nbconvert_exporter": "python",
   "pygments_lexer": "ipython3",
   "version": "3.6.2"
  }
 },
 "nbformat": 4,
 "nbformat_minor": 2
}
