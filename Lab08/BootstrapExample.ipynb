{
 "cells": [
  {
   "cell_type": "code",
   "execution_count": 1,
   "metadata": {
    "collapsed": true
   },
   "outputs": [],
   "source": [
    "import pandas as pd\n",
    "import numpy as np\n",
    "import scipy.stats as st\n",
    "from scipy.optimize import minimize\n",
    "from sklearn.linear_model import LinearRegression\n",
    "from functools import partial\n",
    "import matplotlib.pyplot as plt\n",
    "\n",
    "%matplotlib inline"
   ]
  },
  {
   "cell_type": "markdown",
   "metadata": {},
   "source": [
    "### Assignment 1"
   ]
  },
  {
   "cell_type": "code",
   "execution_count": 2,
   "metadata": {},
   "outputs": [
    {
     "data": {
      "text/html": [
       "<div>\n",
       "<style>\n",
       "    .dataframe thead tr:only-child th {\n",
       "        text-align: right;\n",
       "    }\n",
       "\n",
       "    .dataframe thead th {\n",
       "        text-align: left;\n",
       "    }\n",
       "\n",
       "    .dataframe tbody tr th {\n",
       "        vertical-align: top;\n",
       "    }\n",
       "</style>\n",
       "<table border=\"1\" class=\"dataframe\">\n",
       "  <thead>\n",
       "    <tr style=\"text-align: right;\">\n",
       "      <th></th>\n",
       "      <th>id</th>\n",
       "      <th>p1</th>\n",
       "      <th>p2</th>\n",
       "      <th>p3</th>\n",
       "      <th>p4</th>\n",
       "      <th>p5</th>\n",
       "      <th>p6</th>\n",
       "      <th>p7</th>\n",
       "      <th>p8</th>\n",
       "      <th>p9</th>\n",
       "      <th>...</th>\n",
       "      <th>p24</th>\n",
       "      <th>p25</th>\n",
       "      <th>p26</th>\n",
       "      <th>p27</th>\n",
       "      <th>p28</th>\n",
       "      <th>y1</th>\n",
       "      <th>y2</th>\n",
       "      <th>y3</th>\n",
       "      <th>y4</th>\n",
       "      <th>y5</th>\n",
       "    </tr>\n",
       "  </thead>\n",
       "  <tbody>\n",
       "    <tr>\n",
       "      <th>0</th>\n",
       "      <td>11</td>\n",
       "      <td>6.48148</td>\n",
       "      <td>3.0</td>\n",
       "      <td>5.0</td>\n",
       "      <td>7.75000</td>\n",
       "      <td>0.0</td>\n",
       "      <td>7.16667</td>\n",
       "      <td>8.16667</td>\n",
       "      <td>9.66667</td>\n",
       "      <td>6.16667</td>\n",
       "      <td>...</td>\n",
       "      <td>1.66667</td>\n",
       "      <td>3.16667</td>\n",
       "      <td>0.0</td>\n",
       "      <td>0.00000</td>\n",
       "      <td>0.0</td>\n",
       "      <td>1.0</td>\n",
       "      <td>5.00</td>\n",
       "      <td>7.44</td>\n",
       "      <td>1.18</td>\n",
       "      <td>4.38</td>\n",
       "    </tr>\n",
       "    <tr>\n",
       "      <th>1</th>\n",
       "      <td>12</td>\n",
       "      <td>5.74074</td>\n",
       "      <td>4.0</td>\n",
       "      <td>8.0</td>\n",
       "      <td>7.33333</td>\n",
       "      <td>8.0</td>\n",
       "      <td>8.83333</td>\n",
       "      <td>9.75000</td>\n",
       "      <td>9.66667</td>\n",
       "      <td>9.00000</td>\n",
       "      <td>...</td>\n",
       "      <td>2.50000</td>\n",
       "      <td>5.50000</td>\n",
       "      <td>5.0</td>\n",
       "      <td>8.66667</td>\n",
       "      <td>8.0</td>\n",
       "      <td>4.5</td>\n",
       "      <td>4.25</td>\n",
       "      <td>8.93</td>\n",
       "      <td>2.00</td>\n",
       "      <td>6.03</td>\n",
       "    </tr>\n",
       "    <tr>\n",
       "      <th>2</th>\n",
       "      <td>25</td>\n",
       "      <td>7.59259</td>\n",
       "      <td>7.0</td>\n",
       "      <td>8.0</td>\n",
       "      <td>7.66667</td>\n",
       "      <td>8.0</td>\n",
       "      <td>9.66667</td>\n",
       "      <td>9.50000</td>\n",
       "      <td>6.16667</td>\n",
       "      <td>9.66667</td>\n",
       "      <td>...</td>\n",
       "      <td>3.50000</td>\n",
       "      <td>3.50000</td>\n",
       "      <td>9.0</td>\n",
       "      <td>6.50000</td>\n",
       "      <td>7.0</td>\n",
       "      <td>7.5</td>\n",
       "      <td>11.00</td>\n",
       "      <td>8.97</td>\n",
       "      <td>2.00</td>\n",
       "      <td>9.12</td>\n",
       "    </tr>\n",
       "    <tr>\n",
       "      <th>3</th>\n",
       "      <td>31</td>\n",
       "      <td>5.96297</td>\n",
       "      <td>4.0</td>\n",
       "      <td>8.0</td>\n",
       "      <td>9.33333</td>\n",
       "      <td>10.0</td>\n",
       "      <td>9.33333</td>\n",
       "      <td>7.00000</td>\n",
       "      <td>8.50000</td>\n",
       "      <td>9.66667</td>\n",
       "      <td>...</td>\n",
       "      <td>0.00000</td>\n",
       "      <td>0.00000</td>\n",
       "      <td>0.0</td>\n",
       "      <td>0.00000</td>\n",
       "      <td>0.0</td>\n",
       "      <td>4.0</td>\n",
       "      <td>6.25</td>\n",
       "      <td>8.93</td>\n",
       "      <td>1.82</td>\n",
       "      <td>6.41</td>\n",
       "    </tr>\n",
       "    <tr>\n",
       "      <th>4</th>\n",
       "      <td>48</td>\n",
       "      <td>5.44444</td>\n",
       "      <td>1.0</td>\n",
       "      <td>3.5</td>\n",
       "      <td>6.41667</td>\n",
       "      <td>9.0</td>\n",
       "      <td>8.50000</td>\n",
       "      <td>7.08333</td>\n",
       "      <td>6.33333</td>\n",
       "      <td>9.00000</td>\n",
       "      <td>...</td>\n",
       "      <td>0.00000</td>\n",
       "      <td>0.00000</td>\n",
       "      <td>0.0</td>\n",
       "      <td>0.00000</td>\n",
       "      <td>0.0</td>\n",
       "      <td>0.0</td>\n",
       "      <td>3.00</td>\n",
       "      <td>8.08</td>\n",
       "      <td>1.36</td>\n",
       "      <td>3.67</td>\n",
       "    </tr>\n",
       "  </tbody>\n",
       "</table>\n",
       "<p>5 rows × 34 columns</p>\n",
       "</div>"
      ],
      "text/plain": [
       "   id       p1   p2   p3       p4    p5       p6       p7       p8       p9  \\\n",
       "0  11  6.48148  3.0  5.0  7.75000   0.0  7.16667  8.16667  9.66667  6.16667   \n",
       "1  12  5.74074  4.0  8.0  7.33333   8.0  8.83333  9.75000  9.66667  9.00000   \n",
       "2  25  7.59259  7.0  8.0  7.66667   8.0  9.66667  9.50000  6.16667  9.66667   \n",
       "3  31  5.96297  4.0  8.0  9.33333  10.0  9.33333  7.00000  8.50000  9.66667   \n",
       "4  48  5.44444  1.0  3.5  6.41667   9.0  8.50000  7.08333  6.33333  9.00000   \n",
       "\n",
       "   ...       p24      p25  p26      p27  p28   y1     y2    y3    y4    y5  \n",
       "0  ...   1.66667  3.16667  0.0  0.00000  0.0  1.0   5.00  7.44  1.18  4.38  \n",
       "1  ...   2.50000  5.50000  5.0  8.66667  8.0  4.5   4.25  8.93  2.00  6.03  \n",
       "2  ...   3.50000  3.50000  9.0  6.50000  7.0  7.5  11.00  8.97  2.00  9.12  \n",
       "3  ...   0.00000  0.00000  0.0  0.00000  0.0  4.0   6.25  8.93  1.82  6.41  \n",
       "4  ...   0.00000  0.00000  0.0  0.00000  0.0  0.0   3.00  8.08  1.36  3.67  \n",
       "\n",
       "[5 rows x 34 columns]"
      ]
     },
     "execution_count": 2,
     "metadata": {},
     "output_type": "execute_result"
    }
   ],
   "source": [
    "ds1 = pd.read_csv('ds-boot-2.csv', sep='\\t')\n",
    "ds1.head()"
   ]
  },
  {
   "cell_type": "code",
   "execution_count": 3,
   "metadata": {
    "collapsed": true
   },
   "outputs": [],
   "source": [
    "def bootstrap_from_data(data_frame, count):\n",
    "    int_rv = st.randint(0, data_frame.shape[0])\n",
    "    sample_idxs = int_rv.rvs(count)\n",
    "    \n",
    "    return data_frame.iloc[sample_idxs]"
   ]
  },
  {
   "cell_type": "code",
   "execution_count": 4,
   "metadata": {
    "collapsed": true
   },
   "outputs": [],
   "source": [
    "def find_conf_interval(init_params, bs_params, conf_level=0.05):\n",
    "    delta = init_params - bs_params\n",
    "    \n",
    "    percentiles = np.percentile(delta,\n",
    "                                [(conf_level / 2.) * 100, (1. - conf_level / 2.) * 100],\n",
    "                                axis=0)\n",
    "    \n",
    "    conf_interval = (init_params - percentiles[1], init_params - percentiles[0])\n",
    "    \n",
    "    return conf_interval"
   ]
  },
  {
   "cell_type": "code",
   "execution_count": 5,
   "metadata": {
    "collapsed": true
   },
   "outputs": [],
   "source": [
    "B = 100"
   ]
  },
  {
   "cell_type": "markdown",
   "metadata": {},
   "source": [
    "#### Estimating mean and median for $y_i$"
   ]
  },
  {
   "cell_type": "code",
   "execution_count": 6,
   "metadata": {
    "collapsed": true
   },
   "outputs": [],
   "source": [
    "yis = ds1.as_matrix(columns=['y{}'.format(num) for num in range(1, 6)])\n",
    "init_mean = np.mean(yis, axis=0)\n",
    "init_median = np.median(yis, axis=0)"
   ]
  },
  {
   "cell_type": "code",
   "execution_count": 7,
   "metadata": {
    "collapsed": true
   },
   "outputs": [],
   "source": [
    "bs_yis = [bootstrap_from_data(ds1[['y{}'.format(num) for num in range(1, 6)]], ds1.shape[0]) for _ in range(B)]\n",
    "bs_yis = np.array(list(map(lambda yis: yis.as_matrix(), bs_yis)))\n",
    "\n",
    "bs_means = np.mean(bs_yis, axis=1)\n",
    "bs_medians = np.median(bs_yis, axis=1)\n",
    "\n",
    "mean_conf_interval = find_conf_interval(init_mean, bs_means, conf_level=0.05)\n",
    "median_conf_interval = find_conf_interval(init_median, bs_medians, conf_level=0.05)"
   ]
  },
  {
   "cell_type": "code",
   "execution_count": 8,
   "metadata": {},
   "outputs": [
    {
     "name": "stdout",
     "output_type": "stream",
     "text": [
      "Mean of the original sample: [ 4.03  5.51  7.31  1.53  5.63]\n",
      "Mean confidence interval:\n",
      "From:[3.19, 4.72, 6.37, 1.3, 4.84]\n",
      "To:[4.78, 6.67, 8.21, 1.71, 6.46]\n",
      "Median of the original sample: [ 4.    6.25  8.21  1.86  6.22]\n",
      "Median confidence interval:\n",
      "From:[2.74, 5.24, 7.99, 1.64, 5.34]\n",
      "To:[5.64, 7.5, 8.93, 2.0, 7.28]\n"
     ]
    }
   ],
   "source": [
    "np.set_printoptions(precision=2)\n",
    "\n",
    "print('Mean of the original sample: {}'.format(init_mean))\n",
    "print('Mean confidence interval:\\nFrom:{}\\nTo:{}'\n",
    "      .format(np.round(mean_conf_interval[0], 2).tolist(), np.round(mean_conf_interval[1], 2).tolist()))\n",
    "print('Median of the original sample: {}'.format(init_median))\n",
    "print('Median confidence interval:\\nFrom:{}\\nTo:{}'\n",
    "      .format(np.round(median_conf_interval[0], 2).tolist(), np.round(median_conf_interval[1], 2).tolist()))"
   ]
  },
  {
   "cell_type": "markdown",
   "metadata": {},
   "source": [
    "#### Estimating $y_i$ using linear regresion"
   ]
  },
  {
   "cell_type": "markdown",
   "metadata": {},
   "source": [
    "Linear regression model:\n",
    "$$y = \\beta^T x + \\epsilon \\text{, where } \\beta \\in \\mathbb{R}^{n+1} \\text{, } \\beta_{n+1} \\text{ is intercept, so } x_{n+1}=1$$"
   ]
  },
  {
   "cell_type": "code",
   "execution_count": 9,
   "metadata": {
    "collapsed": true
   },
   "outputs": [],
   "source": [
    "def fit_for_yis(ds1, y_idxs):\n",
    "    betas = []\n",
    "    \n",
    "    for y_idx in y_idxs:\n",
    "        columns = ['p{}'.format(num) for num in range(1, 29)]\n",
    "        X = ds1.as_matrix(columns)\n",
    "        y = ds1.as_matrix(['y{}'.format(y_idx)])\n",
    "        \n",
    "        model = LinearRegression().fit(X, y)\n",
    "        beta = np.concatenate([model.coef_.squeeze(), model.intercept_])\n",
    "        betas.append(beta)\n",
    "    \n",
    "    return np.array(betas)"
   ]
  },
  {
   "cell_type": "code",
   "execution_count": 10,
   "metadata": {},
   "outputs": [
    {
     "name": "stdout",
     "output_type": "stream",
     "text": [
      "beta for y0 for p from 1 to 7 of the original sample:\n",
      "[ 0.35 -0.09 -0.47  1.12 -0.33  0.92 -1.07]\n",
      "beta for y0 for p from 1 to 7 confidence interval:\n",
      "From:[-0.19, -0.55, -1.1, -0.03, -0.95, -0.46, -1.28]\n",
      "To:[1.17, 0.51, 0.51, 1.25, 0.3, 1.3, 0.27]\n"
     ]
    }
   ],
   "source": [
    "betas_init = fit_for_yis(ds1, range(1, 6))\n",
    "\n",
    "bs_betas = [fit_for_yis(bootstrap_from_data(ds1, ds1.shape[0]), range(1, 6)) for _ in range(B)]\n",
    "bs_betas = np.stack(bs_betas)\n",
    "\n",
    "conf_interval = find_conf_interval(betas_init, bs_betas, conf_level=0.05)\n",
    "\n",
    "np.set_printoptions(precision=2)\n",
    "\n",
    "print('beta for y0 for p from 1 to 7 of the original sample:\\n{}'.format(betas_init[0, :7]))\n",
    "print('beta for y0 for p from 1 to 7 confidence interval:\\nFrom:{}\\nTo:{}'\n",
    "      .format(np.round(conf_interval[0][0, :7], 2).tolist(), np.round(conf_interval[1][0, :7], 2).tolist()))"
   ]
  },
  {
   "cell_type": "markdown",
   "metadata": {},
   "source": [
    "### Assignment 2"
   ]
  },
  {
   "cell_type": "code",
   "execution_count": 11,
   "metadata": {},
   "outputs": [
    {
     "data": {
      "text/html": [
       "<div>\n",
       "<style>\n",
       "    .dataframe thead tr:only-child th {\n",
       "        text-align: right;\n",
       "    }\n",
       "\n",
       "    .dataframe thead th {\n",
       "        text-align: left;\n",
       "    }\n",
       "\n",
       "    .dataframe tbody tr th {\n",
       "        vertical-align: top;\n",
       "    }\n",
       "</style>\n",
       "<table border=\"1\" class=\"dataframe\">\n",
       "  <thead>\n",
       "    <tr style=\"text-align: right;\">\n",
       "      <th></th>\n",
       "      <th>day</th>\n",
       "      <th>bugsPerDay</th>\n",
       "      <th>cummBugs</th>\n",
       "    </tr>\n",
       "  </thead>\n",
       "  <tbody>\n",
       "    <tr>\n",
       "      <th>0</th>\n",
       "      <td>1</td>\n",
       "      <td>0</td>\n",
       "      <td>0</td>\n",
       "    </tr>\n",
       "    <tr>\n",
       "      <th>1</th>\n",
       "      <td>2</td>\n",
       "      <td>1</td>\n",
       "      <td>1</td>\n",
       "    </tr>\n",
       "    <tr>\n",
       "      <th>2</th>\n",
       "      <td>3</td>\n",
       "      <td>0</td>\n",
       "      <td>1</td>\n",
       "    </tr>\n",
       "    <tr>\n",
       "      <th>3</th>\n",
       "      <td>4</td>\n",
       "      <td>2</td>\n",
       "      <td>3</td>\n",
       "    </tr>\n",
       "    <tr>\n",
       "      <th>4</th>\n",
       "      <td>5</td>\n",
       "      <td>1</td>\n",
       "      <td>4</td>\n",
       "    </tr>\n",
       "  </tbody>\n",
       "</table>\n",
       "</div>"
      ],
      "text/plain": [
       "   day  bugsPerDay  cummBugs\n",
       "0    1           0         0\n",
       "1    2           1         1\n",
       "2    3           0         1\n",
       "3    4           2         3\n",
       "4    5           1         4"
      ]
     },
     "execution_count": 11,
     "metadata": {},
     "output_type": "execute_result"
    }
   ],
   "source": [
    "bugs = pd.read_csv('ds-boot-1.csv', sep='\\t')\n",
    "bugs.head()"
   ]
  },
  {
   "cell_type": "code",
   "execution_count": 12,
   "metadata": {},
   "outputs": [
    {
     "data": {
      "text/plain": [
       "[<matplotlib.lines.Line2D at 0x7f0692625780>]"
      ]
     },
     "execution_count": 12,
     "metadata": {},
     "output_type": "execute_result"
    },
    {
     "data": {
      "image/png": "[encoded data removed]",
      "text/plain": [
       "<matplotlib.figure.Figure at 0x7f06926a23c8>"
      ]
     },
     "metadata": {},
     "output_type": "display_data"
    }
   ],
   "source": [
    "plt.plot(bugs['cummBugs'])"
   ]
  },
  {
   "cell_type": "markdown",
   "metadata": {},
   "source": [
    "#### MLE derivation for G-O S-shaped model as an example"
   ]
  },
  {
   "cell_type": "markdown",
   "metadata": {},
   "source": [
    "Let's assume our noise is Gaussian, so we can define MLE task as the following:\n",
    "$$a \\text{, } b=argmax_{a,b}{L(a,b,\\sigma)} \\text{, where } L(a,b,\\sigma)=\\Big(\\frac{1}{2\\pi\\sigma^2}\\Big)^{n/2} e^{\\sum_{i=1}^{n}(-(y_i-a(1-(1+bt_i)e^{-bt_i}))^2)/(2\\sigma^2)} \\text{, } a \\geq 0 \\text{, } b > 0$$\n",
    "\n",
    "Which can be transformed into maximum log-likelihood estimation:\n",
    "$$log(L(a,b,\\sigma))=-\\frac{n}{2}log(2\\pi\\sigma^2) -\\frac{1}{2\\sigma^2}\\sum_{i=1}^{n}(y_i-a(1-(1+bt_i)e^{-bt_i}))^2$$\n",
    "\n",
    "Finally, our function will be the following:\n",
    "$$a \\text{, } b=argmax_{a,b}{L(a,b,\\sigma)}=argmax_{a,b}{log(L(a,b))}=-\\sum_{i=1}^{n}(y_i-a(1-(1+bt_i)e^{-bt_i}))^2$$\n",
    "\n",
    "We got sum of squares! It was obvious for MLE with Gaussian distributions but I forgot about that. So, good practice. Now we can put any model into the last equation."
   ]
  },
  {
   "cell_type": "code",
   "execution_count": 13,
   "metadata": {
    "collapsed": true
   },
   "outputs": [],
   "source": [
    "def s_shape_go(a, b, t):\n",
    "    return a*(1. - (1 + b*t) * np.exp(-b*t))\n",
    "\n",
    "def s_shape_go_mle(x, y, t):\n",
    "    # a = x[0], b = x[1]\n",
    "    \n",
    "    return np.sum(np.power(y - s_shape_go(x[0], x[1], t), 2))\n",
    "\n",
    "def s_shape_gompertz(a, b, c, t):\n",
    "    return a*np.power(b, np.power(c, t))\n",
    "\n",
    "def s_shape_gompertz_mle(x, y, t):\n",
    "    # a = x[0], b = x[1], c = x[2]\n",
    "    \n",
    "    return np.sum(np.power(y - s_shape_gompertz(x[0], x[1], x[2], t), 2))\n",
    "\n",
    "def s_shape_raleigh(a, r, alpha, beta, t):\n",
    "    return a*(1. - np.exp(-r*alpha*(1 - np.exp(-beta*t**2/2.))))\n",
    "\n",
    "def s_shape_raleigh_mle(x, y, t):\n",
    "    # a = x[0], r = x[1], alpha = x[2], beta = x[3]\n",
    "    \n",
    "    return np.sum(np.power(y - s_shape_raleigh(x[0], x[1], x[2], x[3], t), 2))"
   ]
  },
  {
   "cell_type": "code",
   "execution_count": 25,
   "metadata": {},
   "outputs": [],
   "source": [
    "def fit_model(func, mle_func, start_point, bugs, plot_title=None, save_plot_path=None):\n",
    "    s_shape_min_func = partial(mle_func, y=bugs['cummBugs'], t=bugs['day'])\n",
    "    res = minimize(s_shape_min_func, start_point, method='nelder-mead')\n",
    "    print('Optimal parameters: {}. Gonverged: {}'.format(res.x, res.success))\n",
    "    \n",
    "    t = bugs['day']\n",
    "    plt.plot(t, func(*res.x, t=t), label='Estimated')\n",
    "    plt.plot(bugs['cummBugs'], label='Original data')\n",
    "    plt.xlabel('Days')\n",
    "    plt.ylabel('Cummulative amount of bugs')\n",
    "    if plot_title is not None:\n",
    "        plt.title(plot_title)\n",
    "    plt.legend()\n",
    "    \n",
    "    if save_plot_path is not None:\n",
    "        plt.savefig(save_plot_path)"
   ]
  },
  {
   "cell_type": "markdown",
   "metadata": {},
   "source": [
    "#### Try to fit G-O S-shaped model"
   ]
  },
  {
   "cell_type": "code",
   "execution_count": 26,
   "metadata": {},
   "outputs": [
    {
     "name": "stdout",
     "output_type": "stream",
     "text": [
      "Optimal parameters: [  8.54e+03   1.86e-03]. Gonverged: True\n"
     ]
    },
    {
     "data": {
      "image/png": "[encoded data removed]",
      "text/plain": [
       "<matplotlib.figure.Figure at 0x7f068cb73d30>"
      ]
     },
     "metadata": {},
     "output_type": "display_data"
    }
   ],
   "source": [
    "fit_model(s_shape_go, s_shape_go_mle, np.array([5500, 3*1e-3]), bugs,\n",
    "          plot_title='G-O S-shaped model', save_plot_path='results/go_s_shape.png')"
   ]
  },
  {
   "cell_type": "markdown",
   "metadata": {},
   "source": [
    "#### Try to fit Gompertz S-shaped model"
   ]
  },
  {
   "cell_type": "code",
   "execution_count": 27,
   "metadata": {},
   "outputs": [
    {
     "name": "stdout",
     "output_type": "stream",
     "text": [
      "Optimal parameters: [  6.03e+03   7.88e-04   9.96e-01]. Gonverged: True\n"
     ]
    },
    {
     "data": {
      "image/png": "[encoded data removed]",
      "text/plain": [
       "<matplotlib.figure.Figure at 0x7f068cbe2a90>"
      ]
     },
     "metadata": {},
     "output_type": "display_data"
    }
   ],
   "source": [
    "fit_model(s_shape_gompertz, s_shape_gompertz_mle, np.array([5500., 0.001, 0.995]), bugs,\n",
    "          plot_title='Gompertz S-shaped model', save_plot_path='results/gompertz_s_shape.png')"
   ]
  },
  {
   "cell_type": "markdown",
   "metadata": {},
   "source": [
    "#### Try to fit Raleigh S-shaped model"
   ]
  },
  {
   "cell_type": "code",
   "execution_count": 28,
   "metadata": {},
   "outputs": [
    {
     "name": "stdout",
     "output_type": "stream",
     "text": [
      "Optimal parameters: [  2.81e+08   6.59e-02   3.35e-04   3.04e-06]. Gonverged: True\n"
     ]
    },
    {
     "data": {
      "image/png": "[encoded data removed]",
      "text/plain": [
       "<matplotlib.figure.Figure at 0x7f068c3de160>"
      ]
     },
     "metadata": {},
     "output_type": "display_data"
    }
   ],
   "source": [
    "fit_model(s_shape_raleigh, s_shape_raleigh_mle, np.array([5e+8, 1e-1, 1e-03, 5e-06]), bugs,\n",
    "         plot_title='Yamada Raleigh S-shaped model', save_plot_path='results/raleigh_s_shape.png')"
   ]
  },
  {
   "cell_type": "code",
   "execution_count": 21,
   "metadata": {
    "collapsed": true
   },
   "outputs": [],
   "source": [
    "def bootstrap_bugs(bugs, count):\n",
    "    int_rv = st.randint(0, bugs.shape[0])\n",
    "    sample_idxs = int_rv.rvs(count)\n",
    "    \n",
    "    new_bugs = pd.DataFrame(columns=['day', 'bugsPerDay', 'cummBugs'])\n",
    "    new_bugs['bugsPerDay'] = bugs['bugsPerDay'].iloc[sample_idxs]\n",
    "    new_bugs['day'] = bugs['day'].sort_values().tolist()\n",
    "    new_bugs = new_bugs.sort_values(by=['day'])\n",
    "    new_bugs['cummBugs'] = new_bugs['bugsPerDay'].cumsum()\n",
    "    new_bugs = new_bugs.reset_index(drop=True)\n",
    "    \n",
    "    return new_bugs\n",
    "\n",
    "def estimate_params(mle_func, bugs, start_point):\n",
    "    s_shape_min_func = partial(mle_func, y=bugs['cummBugs'], t=bugs['day'])\n",
    "    res = minimize(s_shape_min_func, start_point, method='nelder-mead')\n",
    "    \n",
    "    return res.x\n",
    "\n",
    "def run_parameters_estimation(mle_func, bugs, start_point):\n",
    "    # Calculate parameters of S-shape model based on initial sample\n",
    "    init_params = estimate_params(mle_func=mle_func,\n",
    "                          bugs=bugs,\n",
    "                          start_point=start_point)\n",
    "\n",
    "    # Calculate parameters of S-shape model based on B bootstrap samples\n",
    "    bs_params = [estimate_params(mle_func=mle_func,\n",
    "                              bugs=bootstrap_bugs(bugs, count=bugs.shape[0]),\n",
    "                              start_point=start_point) for _ in range(B)]\n",
    "    bs_params = np.array(bs_params)\n",
    "    \n",
    "    params_conf_interval = find_conf_interval(init_params, bs_params, conf_level=0.05)\n",
    "\n",
    "    print('Parameters from initial sample: {}'.format(np.round(init_params, 4).tolist()))\n",
    "    print('Bootstrap confidence interval for parameters:\\nFrom: {}\\nTo: {}'\n",
    "          .format(np.round(params_conf_interval[0], 4).tolist(), np.round(params_conf_interval[1], 4).tolist()))"
   ]
  },
  {
   "cell_type": "markdown",
   "metadata": {},
   "source": [
    "#### Estimate a, b parameters of G-O S-shaped model"
   ]
  },
  {
   "cell_type": "code",
   "execution_count": 22,
   "metadata": {},
   "outputs": [
    {
     "name": "stdout",
     "output_type": "stream",
     "text": [
      "Parameters from initial sample: [8541.1262, 0.0019]\n",
      "Bootstrap confidence interval for parameters:\n",
      "From: [5729.6659, 0.0018]\n",
      "To: [8230.305, 0.0027]\n"
     ]
    }
   ],
   "source": [
    "run_parameters_estimation(s_shape_go_mle, bugs, np.array([5500, 3*1e-3]))"
   ]
  },
  {
   "cell_type": "markdown",
   "metadata": {},
   "source": [
    "#### Estimate a, b, c parameters of Gompertz S-shape model"
   ]
  },
  {
   "cell_type": "code",
   "execution_count": 23,
   "metadata": {},
   "outputs": [
    {
     "name": "stdout",
     "output_type": "stream",
     "text": [
      "Parameters from initial sample: [6031.5207, 0.0008, 0.9964]\n",
      "Bootstrap confidence interval for parameters:\n",
      "From: [6232.21, 0.0295, 0.9978]\n",
      "To: [9433.5938, 0.0616, 0.9987]\n"
     ]
    }
   ],
   "source": [
    "run_parameters_estimation(s_shape_gompertz_mle, bugs, np.array([5500., 0.001, 0.995]))"
   ]
  },
  {
   "cell_type": "markdown",
   "metadata": {},
   "source": [
    "#### Estimate a, r, alpha, beta parameters of Raleigh S-shape model"
   ]
  },
  {
   "cell_type": "code",
   "execution_count": 24,
   "metadata": {},
   "outputs": [
    {
     "name": "stdout",
     "output_type": "stream",
     "text": [
      "Parameters from initial sample: [281352680.9316, 0.0659, 0.0003, 0.0]\n",
      "Bootstrap confidence interval for parameters:\n",
      "From: [29214103.7872, 0.0058, 0.0, 0.0]\n",
      "To: [1104614364.766, 0.4071, 0.0011, 0.0]\n"
     ]
    }
   ],
   "source": [
    "run_parameters_estimation(s_shape_raleigh_mle, bugs, np.array([5e+8, 1e-1, 1e-03, 5e-06]))"
   ]
  }
 ],
 "metadata": {
  "kernelspec": {
   "display_name": "Python 3",
   "language": "python",
   "name": "python3"
  },
  "language_info": {
   "codemirror_mode": {
    "name": "ipython",
    "version": 3
   },
   "file_extension": ".py",
   "mimetype": "text/x-python",
   "name": "python",
   "nbconvert_exporter": "python",
   "pygments_lexer": "ipython3",
   "version": "3.6.2"
  }
 },
 "nbformat": 4,
 "nbformat_minor": 2
}
