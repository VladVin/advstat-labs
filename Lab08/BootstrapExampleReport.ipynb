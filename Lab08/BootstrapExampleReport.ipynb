{
 "cells": [
  {
   "cell_type": "markdown",
   "metadata": {},
   "source": [
    "## Assignment 1"
   ]
  },
  {
   "cell_type": "markdown",
   "metadata": {},
   "source": [
    "I provided the following experiments with DS-1 dataset:  \n",
    "\n",
    "1. Estimated mean, median of $y_i$ and found error for my estimation using 100 bootstrap samples. The results are:\n",
    "\n",
    "```\n",
    "Mean of the original sample: [ 4.03  5.51  7.31  1.53  5.63]\n",
    "Mean confidence interval:\n",
    "From:[3.19, 4.72, 6.37, 1.3, 4.84]\n",
    "To:[4.78, 6.67, 8.21, 1.71, 6.46]\n",
    "Median of the original sample: [ 4.    6.25  8.21  1.86  6.22]\n",
    "Median confidence interval:\n",
    "From:[2.74, 5.24, 7.99, 1.64, 5.34]\n",
    "To:[5.64, 7.5, 8.93, 2.0, 7.28]\n",
    "```\n",
    "All is ok, every parameter fits to its confidence interval, as expected in 95% cases.\n",
    "\n",
    "2. Estimated $\\beta$ parameter of linear regression model for predicting each of the $y_i$ variables and found their confidence intervals using 100 bootstrap samples. Concretely linear regression model is the following:\n",
    "$$y = \\beta^T x + \\epsilon \\text{, where } \\beta \\in \\mathbb{R}^{n+1} \\text{, } \\beta_{n+1} \\text{ is intercept, so } x_{n+1}=1$$\n",
    "The results for $y_0$ for $\\beta_i$, where $i \\in [1,7]$, are:\n",
    "\n",
    "```\n",
    "beta for y0 for b from 1 to 7 of the original sample:\n",
    "[ 0.35 -0.09 -0.47  1.12 -0.33  0.92 -1.07]\n",
    "beta for y0 for b from 1 to 7 confidence interval:\n",
    "From:[-0.19, -0.55, -1.1, -0.03, -0.95, -0.46, -1.28]\n",
    "To:[1.17, 0.51, 0.51, 1.25, 0.3, 1.3, 0.27]\n",
    "```\n",
    "Here also everything is fine. Each parameter fits to its 95% bootstrap confidence interval.\n",
    "\n",
    "One note on how I do bootstrapping: I select rows from the initial dataset based on randomly uniformly distributed indexes."
   ]
  },
  {
   "cell_type": "markdown",
   "metadata": {},
   "source": [
    "## Assignment 2"
   ]
  },
  {
   "cell_type": "markdown",
   "metadata": {},
   "source": [
    "For estimating parameters on dataset DS-2 I took all three S-shaped models mentioned in [http://www.hpl.hp.com/techreports/tandem/TR-96.1.pdf](http://www.hpl.hp.com/techreports/tandem/TR-96.1.pdf)\n",
    "\n",
    "1. G-O S-shaped model:\n",
    "$$bugs = a(1-(1+bt)e^{-bt}) \\text{, where } a \\geq 0 \\text{, } b > 0$$\n",
    "2. Gompertz S-shaped model:\n",
    "$$bugs = a(b^{c^t}) \\text{, where } a \\geq 0 \\text{, } 0 \\leq b \\leq 1 \\text{, } 0 < c < 1$$\n",
    "3. Yamada Raleigh S-shaped model:\n",
    "$$bugs = a(1-e^{-r\\alpha(1-e^{-\\beta t^2/2})}) \\text{, where } a \\geq 0 \\text{, } r\\alpha > 0 \\text{, } \\beta > 0$$"
   ]
  },
  {
   "cell_type": "markdown",
   "metadata": {},
   "source": [
    "For estimating parameters of the models I took maximum likelihood estimator. If we assume that our noise is Gaussian, we can define MLE task as sum of squares. Here is an example for the G-O model:\n",
    "$$a \\text{, } b=argmax_{a,b}{L(a,b,\\sigma)}=argmax_{a,b}{log(L(a,b))}=-\\sum_{i=1}^{n}(y_i-a(1-(1+bt_i)e^{-bt_i}))^2$$"
   ]
  },
  {
   "cell_type": "markdown",
   "metadata": {},
   "source": [
    "Let's try to fit all the models and compare results visually:\n",
    "![Estimation by S-shaped models](results/s_shaped_models.png)"
   ]
  },
  {
   "cell_type": "markdown",
   "metadata": {},
   "source": [
    "In order to estimate parameters of the models I calculated them based on the original sample of bugs in a software system and calculated 95% confidence interval based on 100 bootstrap samples. The results are the following:\n",
    "\n",
    "1. For G-O model:\n",
    "```\n",
    "a, b from initial sample: [8541.1262, 0.0019]\n",
    "Bootstrap confidence interval for a, b:\n",
    "From: [5729.6659, 0.0018]\n",
    "To: [8230.305, 0.0027]\n",
    "```\n",
    "Here is a strange thing that needs to be discussed on the seminars - all the parameters from initial sample slightly don't fit to the 95% bootstrap confidence intervals.\n",
    "2. For Gompertz model:\n",
    "```\n",
    "a, b, c from initial sample: [6031.5207, 0.0008, 0.9964]\n",
    "Bootstrap confidence interval for a, b, c:\n",
    "From: [6232.21, 0.0295, 0.9978]\n",
    "To: [9433.5938, 0.0616, 0.9987]\n",
    "```\n",
    "Here is the same thing.\n",
    "3. For Yamada Raleigh model:\n",
    "```\n",
    "a, r, alpha, beta from initial sample: [281352680.9316, 0.0659, 0.0003, 0.0]\n",
    "Bootstrap confidence interval for a, r, alpha, beta:\n",
    "From: [29214103.7872, 0.0058, 0.0, 0.0]\n",
    "To: [1104614364.766, 0.4071, 0.0011, 0.0]\n",
    "```\n",
    "Here everything is ok, all parameters fit to their bootstrap confidence intervals."
   ]
  }
 ],
 "metadata": {
  "kernelspec": {
   "display_name": "Python 3",
   "language": "python",
   "name": "python3"
  },
  "language_info": {
   "codemirror_mode": {
    "name": "ipython",
    "version": 3
   },
   "file_extension": ".py",
   "mimetype": "text/x-python",
   "name": "python",
   "nbconvert_exporter": "python",
   "pygments_lexer": "ipython3",
   "version": "3.6.2"
  }
 },
 "nbformat": 4,
 "nbformat_minor": 2
}
